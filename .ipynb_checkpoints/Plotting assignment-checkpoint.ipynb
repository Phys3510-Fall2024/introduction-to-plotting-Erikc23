{
 "cells": [
  {
   "cell_type": "code",
   "execution_count": 56,
   "id": "111bfe8c-9e5d-40ce-ac43-5b7f1ae9e15f",
   "metadata": {},
   "outputs": [
    {
     "data": {
      "application/vnd.jupyter.widget-view+json": {
       "model_id": "67ac788a621d45abb1375f6c18afdb86",
       "version_major": 2,
       "version_minor": 0
      },
      "text/plain": [
       "interactive(children=(FloatSlider(value=1.0, description='$K_1$', max=5.0, min=-5.0), FloatSlider(value=1.0, d…"
      ]
     },
     "metadata": {},
     "output_type": "display_data"
    },
    {
     "data": {
      "text/plain": [
       "<function __main__.update_plot(K_1, K_2, C)>"
      ]
     },
     "execution_count": 56,
     "metadata": {},
     "output_type": "execute_result"
    }
   ],
   "source": [
    "import numpy as np\n",
    "import matplotlib.pyplot as plt\n",
    "from ipywidgets import interact, FloatSlider, IntSlider\n",
    "\n",
    "\n",
    "\n",
    "\n",
    "def update_plot(K_1, K_2, C):\n",
    "    fig, (ax1, ax2) = plt.subplots(1, 2, figsize=(12, 6))\n",
    "\n",
    "\n",
    "    #111111111111111111111111111111111111111\n",
    "    # Panel 1: Line plots of U when Q_2 is 0\n",
    "    Q_1_values = np.linspace(-10, 10, 400)\n",
    "    \n",
    "    # Calculate U for different values of Q_2\n",
    "    U_0 = U(Q_1_values, 0, K_1, K_2, C)\n",
    "    U_2 = U(Q_1_values, 2, K_1, K_2, C)\n",
    "    U_neg3 = U(Q_1_values, -3, K_1, K_2, C)\n",
    "    \n",
    "    # Plot U(Q_1) for Q_2 = 0, 2, -3\n",
    "    ax1.plot(Q_1_values, U_0, label=r'$U(Q_1, Q_2=0)$', color='b')\n",
    "    ax1.plot(Q_1_values, U_2, label=r'$U(Q_1, Q_2=2)$', color='r')\n",
    "    ax1.plot(Q_1_values, U_neg3, label=r'$U(Q_1, Q_2=-3)$', color='g')\n",
    "    \n",
    "    ax1.set_title(r'Potential Energy')\n",
    "    ax1.set_xlabel('Displacement (arbitrary units)')\n",
    "    ax1.set_ylabel('Energy (arbitrary units)')\n",
    "    ax1.grid(True)\n",
    "    ax1.legend()\n",
    "\n",
    "\n",
    "    #222222222222222222222222222222222222\n",
    "    # Panel 2: Contour plot of U(Q_1, Q_2)\n",
    "    Q_1_values = np.linspace(-10, 10, 400)\n",
    "    Q_2_values = np.linspace(-10, 10, 400)\n",
    "    Q_1, Q_2 = np.meshgrid(Q_1_values, Q_2_values)\n",
    "    \n",
    "    # Calculate U values for the grid\n",
    "    U_values = U(Q_1, Q_2, K_1, K_2, C)\n",
    "    \n",
    "    contour = ax2.contourf(Q_1, Q_2, U_values, levels=50, cmap='inferno')\n",
    "    fig.colorbar(contour, ax=ax2)\n",
    "    \n",
    "    ax2.set_title(r'Contour Plot of $U(Q_1, Q_2)$')\n",
    "    ax2.set_xlabel(r'Displacement $Q_1$')\n",
    "    ax2.set_ylabel(r'Displacement $Q_2$')\n",
    "    \n",
    "    plt.grid(True)\n",
    "    plt.tight_layout()\n",
    "    plt.show()\n",
    "\n",
    "\n",
    "\n",
    "# Sliders, these will update both plots \n",
    "interact(update_plot, \n",
    "         K_1=FloatSlider(min=-5, max=5, step=0.1, value=1, description='$K_1$'), \n",
    "         K_2=FloatSlider(min=-5, max=5, step=0.1, value=1, description='$K_2$'), \n",
    "         C=FloatSlider(min=-5, max=5, step=0.1, value=0, description='$C$'))"
   ]
  },
  {
   "cell_type": "markdown",
   "id": "a0dd18e3-3a54-489a-84fd-7f854d2f231d",
   "metadata": {},
   "source": [
    "1. As you increase $C$, how do the low-energy contours start to change?\n",
    "\n",
    "\n",
    "    As C increases, the low energy contours begin to shift towards the most negative values of Q1 and Q2\n",
    "\n",
    "2. Does the force on $Q_1$ depend on the direction of $Q_2$?\n",
    "\n",
    "   No, it has the same effect in both the positive and negative direction.\n",
    "\n",
    "\n",
    "3. What do you expect the influence of driving $Q_2$ to be on the motion of $Q_1$?\n",
    "\n",
    "   It will move towards 0\n",
    "\n",
    "3. If $Q_1$ is kicked away from equilibrium, what do you expect its influence to be on $Q_2$?\n",
    "\n",
    "   It will increase"
   ]
  }
 ],
 "metadata": {
  "kernelspec": {
   "display_name": "Python 3 (ipykernel)",
   "language": "python",
   "name": "python3"
  },
  "language_info": {
   "codemirror_mode": {
    "name": "ipython",
    "version": 3
   },
   "file_extension": ".py",
   "mimetype": "text/x-python",
   "name": "python",
   "nbconvert_exporter": "python",
   "pygments_lexer": "ipython3",
   "version": "3.9.19"
  }
 },
 "nbformat": 4,
 "nbformat_minor": 5
}
